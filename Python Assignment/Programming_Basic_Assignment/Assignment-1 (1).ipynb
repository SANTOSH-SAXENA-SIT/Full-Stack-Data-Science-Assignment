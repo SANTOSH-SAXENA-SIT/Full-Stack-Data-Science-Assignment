{
 "cells": [
  {
   "cell_type": "markdown",
   "metadata": {},
   "source": [
    "1. Write a Python program to print &quot;Hello Python&quot;?"
   ]
  },
  {
   "cell_type": "code",
   "execution_count": 1,
   "metadata": {},
   "outputs": [
    {
     "name": "stdout",
     "output_type": "stream",
     "text": [
      "Hello\n"
     ]
    }
   ],
   "source": [
    "print(\"Hello\")"
   ]
  },
  {
   "cell_type": "markdown",
   "metadata": {},
   "source": [
    "2. Write a Python program to do arithmetical operations addition and division.?"
   ]
  },
  {
   "cell_type": "code",
   "execution_count": 3,
   "metadata": {},
   "outputs": [
    {
     "name": "stdout",
     "output_type": "stream",
     "text": [
      "Arithmetical Operation\n",
      "\n",
      "====================================================================================================\n",
      "Input\n",
      "Enter the first value : 10\n",
      "Enter the second value : 20\n",
      "\n",
      "Output\n",
      "Addition operation :  30\n",
      "Division operation :  0.5\n",
      "===================================================================================================="
     ]
    }
   ],
   "source": [
    "try:\n",
    "    def function_arithmetic_operation():\n",
    "        try:\n",
    "            print(\"==\"*50,end = \"\")\n",
    "            print(\"\\nInput\")\n",
    "            first_value = int(input(\"Enter the first value : \"))\n",
    "            second_value = int(input(\"Enter the second value : \"))\n",
    "            print(\"\\nOutput\")\n",
    "            print(\"Addition operation : \",first_value + second_value)\n",
    "            print(\"Division operation : \",first_value / second_value)\n",
    "            print(\"==\"*50,end = \"\")\n",
    "        except Exception as e:\n",
    "            print(\"Error in function\")\n",
    "    print(\"Arithmetical Operation\\n\")\n",
    "    function_arithmetic_operation()\n",
    "except Exception as e:\n",
    "    print(\"Error\")"
   ]
  },
  {
   "cell_type": "markdown",
   "metadata": {},
   "source": [
    "3. Write a Python program to find the area of a triangle?"
   ]
  },
  {
   "cell_type": "code",
   "execution_count": 4,
   "metadata": {},
   "outputs": [
    {
     "name": "stdout",
     "output_type": "stream",
     "text": [
      "Area of Triangle\n",
      "====================================================================================================\n",
      "Input\n",
      "Enter the value of base : 10\n",
      "Enter the value of height : 20\n",
      "\n",
      "Output\n",
      "The area of triangle is :  100.0\n",
      "====================================================================================================\n"
     ]
    }
   ],
   "source": [
    "try:\n",
    "    def function_area_of_triangle():\n",
    "        try:\n",
    "            print(\"==\"*50)\n",
    "            print(\"Input\")\n",
    "            base = int(input(\"Enter the value of base : \"))\n",
    "            height = int(input(\"Enter the value of height : \"))\n",
    "            area = (base*height)/2\n",
    "            print(\"\\nOutput\")\n",
    "            print(\"The area of triangle is : \",area)\n",
    "            print(\"==\"*50)\n",
    "        except Exception as e:\n",
    "            print(\"Error in function\")\n",
    "    print(\"Area of Triangle\")\n",
    "    function_area_of_triangle()\n",
    "except Exception as e:\n",
    "    print(\"Error\")"
   ]
  },
  {
   "cell_type": "markdown",
   "metadata": {},
   "source": [
    "4. Write a Python program to swap two variables?"
   ]
  },
  {
   "cell_type": "code",
   "execution_count": 6,
   "metadata": {},
   "outputs": [
    {
     "name": "stdout",
     "output_type": "stream",
     "text": [
      "Swapping variables\n",
      "====================================================================================================\n",
      "Input\n",
      "Enter the first value : 10\n",
      "Enter the second value : 20\n",
      "\n",
      "Output\n",
      "The fist value is :  20\n",
      "The second value is :  10\n",
      "====================================================================================================\n"
     ]
    }
   ],
   "source": [
    "try:\n",
    "    def function_swap_2_variables():\n",
    "        try:\n",
    "            print(\"==\"*50)\n",
    "            print(\"Input\")\n",
    "            first_value = int(input(\"Enter the first value : \"))\n",
    "            second_value = int(input(\"Enter the second value : \"))\n",
    "            first_value,second_value = second_value , first_value\n",
    "            print(\"\\nOutput\")\n",
    "            print(\"The fist value is : \",first_value)\n",
    "            print(\"The second value is : \",second_value)\n",
    "            print(\"==\"*50)\n",
    "        except:\n",
    "            print(\"Error in function\")\n",
    "    print(\"Swapping variables\")\n",
    "    function_swap_2_variables()\n",
    "except:\n",
    "    print(\"Error\")"
   ]
  },
  {
   "cell_type": "markdown",
   "metadata": {},
   "source": [
    "5. Write a Python program to generate a random number?"
   ]
  },
  {
   "cell_type": "code",
   "execution_count": 9,
   "metadata": {},
   "outputs": [
    {
     "data": {
      "text/plain": [
       "array([-1.02569798])"
      ]
     },
     "execution_count": 9,
     "metadata": {},
     "output_type": "execute_result"
    }
   ],
   "source": [
    "import numpy as np\n",
    "np.random.randn(1)"
   ]
  }
 ],
 "metadata": {
  "kernelspec": {
   "display_name": "Python 3",
   "language": "python",
   "name": "python3"
  },
  "language_info": {
   "codemirror_mode": {
    "name": "ipython",
    "version": 3
   },
   "file_extension": ".py",
   "mimetype": "text/x-python",
   "name": "python",
   "nbconvert_exporter": "python",
   "pygments_lexer": "ipython3",
   "version": "3.8.3"
  }
 },
 "nbformat": 4,
 "nbformat_minor": 4
}
