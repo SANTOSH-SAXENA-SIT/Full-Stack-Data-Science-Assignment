{
 "cells": [
  {
   "cell_type": "markdown",
   "metadata": {},
   "source": [
    "# Python Assignment"
   ]
  },
  {
   "cell_type": "markdown",
   "metadata": {},
   "source": [
    "## Basic Python Assignment"
   ]
  },
  {
   "cell_type": "markdown",
   "metadata": {},
   "source": [
    "### Assignment - 2"
   ]
  },
  {
   "cell_type": "markdown",
   "metadata": {},
   "source": [
    "Q1. What are the two values of the Boolean data type? How do you write them?"
   ]
  },
  {
   "cell_type": "markdown",
   "metadata": {},
   "source": [
    "Answer :\n",
    "There are 2 types of Boolean values <br>\n",
    "values --> How do we write them in Python <br>\n",
    "0 -------> False <br>\n",
    "1 -------> True"
   ]
  },
  {
   "cell_type": "code",
   "execution_count": 1,
   "metadata": {},
   "outputs": [
    {
     "name": "stdout",
     "output_type": "stream",
     "text": [
      "Values of  True  is  1  and data type is  <class 'bool'>\n",
      "Values of  False  is  0  and data type is  <class 'bool'>\n"
     ]
    }
   ],
   "source": [
    "a = True\n",
    "b = False\n",
    "print(\"Values of \",a,\" is \", int(a), \" and data type is \", type(a))\n",
    "print(\"Values of \",b,\" is \", int(b), \" and data type is \", type(b))"
   ]
  },
  {
   "cell_type": "markdown",
   "metadata": {},
   "source": [
    "Q2. What are the three different types of Boolean operators?"
   ]
  },
  {
   "cell_type": "markdown",
   "metadata": {},
   "source": [
    "Answer: There are 3 types of Boolean operator <br>\n",
    "1) AND <br>\n",
    "2) OR  <br>\n",
    "1) NOT <br>"
   ]
  },
  {
   "cell_type": "markdown",
   "metadata": {},
   "source": [
    "Q3. Make a list of each Boolean operator&#39;s truth tables (i.e. every possible combination of Boolean\n",
    "values for the operator and what it evaluate )."
   ]
  },
  {
   "cell_type": "code",
   "execution_count": 2,
   "metadata": {},
   "outputs": [
    {
     "name": "stdout",
     "output_type": "stream",
     "text": [
      "\n",
      "OR Table\n",
      "A   list is :  [True, True, False, False]\n",
      "B   list is :  [True, False, True, False]\n",
      "OR  list is :  [True, True, True, False]\n",
      "\n",
      "AND Table\n",
      "A   list is :  [True, True, False, False]\n",
      "B   list is :  [True, False, True, False]\n",
      "AND list is :  [True, False, False, False]\n",
      "\n",
      "NOT Table\n",
      "C   list is :  [True, False]\n",
      "NOT list is :  [False, True]\n"
     ]
    }
   ],
   "source": [
    "# Answer :\n",
    "\n",
    "A = [True,True,False,False]\n",
    "B = [True,False,True,False]\n",
    "C = [True , False]\n",
    "\n",
    "AND = []\n",
    "OR = []\n",
    "NOT = []\n",
    "\n",
    "for i in range(4):\n",
    "    AND.append(A[i] and B[i])\n",
    "    OR.append(A[i] or B[i])\n",
    "\n",
    "for i in C:\n",
    "    NOT.append(not i)\n",
    "\n",
    "    \n",
    "    \n",
    "print(\"\\nOR Table\")\n",
    "print(\"A   list is : \",A)\n",
    "print(\"B   list is : \",B)\n",
    "print(\"OR  list is : \",OR)\n",
    "\n",
    "print(\"\\nAND Table\")\n",
    "print(\"A   list is : \",A)\n",
    "print(\"B   list is : \",B)\n",
    "print(\"AND list is : \",AND)\n",
    "\n",
    "print(\"\\nNOT Table\")\n",
    "print(\"C   list is : \",C)\n",
    "print(\"NOT list is : \",NOT)\n",
    "\n",
    "    "
   ]
  },
  {
   "cell_type": "markdown",
   "metadata": {},
   "source": [
    "Q4. What are the values of the following expressions?\n",
    "\n",
    "(5 > 4) and (3 == 5) <br>\n",
    "not (5 > 4)<br>\n",
    "(5 > 4) or (3 == 5)<br>\n",
    "not ((5 > 4) or (3 == 5))<br>\n",
    "(True and True) and (True == False)<br>\n",
    "(not False) or (not True)<br>"
   ]
  },
  {
   "cell_type": "code",
   "execution_count": 3,
   "metadata": {},
   "outputs": [
    {
     "name": "stdout",
     "output_type": "stream",
     "text": [
      "(5 > 4) and (3 == 5) :  False\n",
      "not (5 > 4) :  False\n",
      "(5 > 4) or (3 == 5) :  True\n",
      "not ((5 > 4) or (3 == 5)) :  False\n",
      "(True and True) and (True == False) :  False\n",
      "(not False) or (not True) :  True\n"
     ]
    }
   ],
   "source": [
    "# Answers\n",
    "print(\"(5 > 4) and (3 == 5) : \", (5 > 4) and (3 == 5))\n",
    "print(\"not (5 > 4) : \", not (5 > 4))\n",
    "print(\"(5 > 4) or (3 == 5) : \",(5 > 4) or (3 == 5))\n",
    "print(\"not ((5 > 4) or (3 == 5)) : \", not ((5 > 4) or (3 == 5)))\n",
    "print(\"(True and True) and (True == False) : \", (True and True) and (True == False))\n",
    "print(\"(not False) or (not True) : \", (not False) or (not True))"
   ]
  },
  {
   "cell_type": "markdown",
   "metadata": {},
   "source": [
    "Q5. What are the six comparison operators?"
   ]
  },
  {
   "cell_type": "markdown",
   "metadata": {},
   "source": [
    "Answers : The six comparison operators are - <br>\n",
    "1) less-than                :  <   <br>\n",
    "2) greater-than             :  >   <br>\n",
    "3) equal-to                 :  ==  <br>\n",
    "4) greater-than-equal-to    :  >=  <br>\n",
    "5) less-than-equal-to       :  <=  <br>\n",
    "6) not equal-to             :  !=  <br>"
   ]
  },
  {
   "cell_type": "markdown",
   "metadata": {},
   "source": [
    "Q6. How do you tell the difference between the equal to and assignment operators?Describe a\n",
    "condition and when you would use one."
   ]
  },
  {
   "cell_type": "markdown",
   "metadata": {},
   "source": [
    "In Assignment operator the value which you give is assigned to that particular varibale. Hence Every time you call that variable, You will get the same value which you have assigned previously.\n",
    "\n",
    "In equal-to operator the value which you give is used for checking that wheather the value you have given and value inside the variable same or not. It will give boolean value as an output."
   ]
  },
  {
   "cell_type": "code",
   "execution_count": 4,
   "metadata": {},
   "outputs": [
    {
     "name": "stdout",
     "output_type": "stream",
     "text": [
      "\n",
      "Assignment operation\n",
      "If i write a = 6 then 6 will be stored in variable a\n",
      "The value of variable a is : 6\n",
      "\n",
      "Equal to operation\n",
      "If, I write a == 6 then the value of variable is checked with 6 if the value is matched then the output will be true else false\n",
      "The output is True\n",
      "The output is False\n"
     ]
    }
   ],
   "source": [
    "print(\"\\nAssignment operation\")\n",
    "print(\"If i write a = 6 then 6 will be stored in variable a\")\n",
    "a = 6\n",
    "print(\"The value of variable a is :\",a)\n",
    "\n",
    "print(\"\\nEqual to operation\")\n",
    "print(\"If, I write a == 6 then the value of variable is checked with 6 if the value is matched then the output will be true else false\")\n",
    "print(\"The output is\",a == 6) # output will be true\n",
    "print(\"The output is\",a == 5) # output will be false"
   ]
  },
  {
   "cell_type": "markdown",
   "metadata": {},
   "source": [
    "Q7. Identify the three blocks in this code:"
   ]
  },
  {
   "cell_type": "markdown",
   "metadata": {},
   "source": [
    "spam = 0  <br>\n",
    "if spam == 10:     ----> 1st block <br>\n",
    "&emsp; print(eggs)                    <br>\n",
    "if spam &gt; 5:    ----> 2nd block <br>\n",
    "&emsp; print(bacon)                   <br>\n",
    "else:              ----> 3rd block <br>\n",
    "&emsp; print(ham)                     <br>\n",
    "&emsp; print(spam)                    <br>\n",
    "&emsp; print(spam)                    <br>"
   ]
  },
  {
   "cell_type": "markdown",
   "metadata": {},
   "source": [
    "Q8. Write code that prints Hello if 1 is stored in spam, prints Howdy if 2 is stored in spam, and prints\n",
    "Greetings! if anything else is stored in spam."
   ]
  },
  {
   "cell_type": "code",
   "execution_count": 5,
   "metadata": {},
   "outputs": [
    {
     "name": "stdout",
     "output_type": "stream",
     "text": [
      "1\n",
      "Hello\n"
     ]
    }
   ],
   "source": [
    "# Answer\n",
    "\n",
    "spam = int(input())   # spam is a variable which will take input from user as integer\n",
    "if(spam == 1):        # 1st condition\n",
    "    print(\"Hello\")\n",
    "elif(spam == 2):      # 2nd condition\n",
    "    print(\"Howdy\")\n",
    "else:                 # 3rd condition\n",
    "    print(\"Greetings\")"
   ]
  },
  {
   "cell_type": "markdown",
   "metadata": {},
   "source": [
    "Q9.If your programme is stuck in an endless loop, what keys you’ll press?"
   ]
  },
  {
   "cell_type": "markdown",
   "metadata": {},
   "source": [
    "Answer : If your programme is stuck in endless loop then you can interrupt the kernel or restart the kernel. You can also terminate it from the command prompt. "
   ]
  },
  {
   "cell_type": "markdown",
   "metadata": {},
   "source": [
    "Q10. How can you tell the difference between break and continue?"
   ]
  },
  {
   "cell_type": "markdown",
   "metadata": {},
   "source": [
    "Answer : The difference between break and continue are - <br>\n",
    "Break <br>\n",
    "Break terminates the for loop and compiler starts execute further instruction written outside that for loop\n",
    "\n",
    "Continue <br>\n",
    "Continue skips that interval of i which is iterating and then starts with the next value of i."
   ]
  },
  {
   "cell_type": "code",
   "execution_count": 6,
   "metadata": {},
   "outputs": [
    {
     "name": "stdout",
     "output_type": "stream",
     "text": [
      "0\n",
      "Continue is going to execute hence this i will not be printed\n",
      "2\n"
     ]
    }
   ],
   "source": [
    "# code for continue statement\n",
    "for i in range(3):\n",
    "    if(i == 1):\n",
    "        print(\"Continue is going to execute hence this i will not be printed\")\n",
    "        continue\n",
    "    print(i)"
   ]
  },
  {
   "cell_type": "code",
   "execution_count": 7,
   "metadata": {},
   "outputs": [
    {
     "name": "stdout",
     "output_type": "stream",
     "text": [
      "0\n",
      "break is going to execute hence from now for loop will be terminated \n",
      "For loop terminated, This instruction written outside the for loop\n"
     ]
    }
   ],
   "source": [
    "# code for break statement\n",
    "for i in range(3):\n",
    "    if(i == 1):\n",
    "        print(\"break is going to execute hence from now for loop will be terminated \")\n",
    "        break\n",
    "    print(i)\n",
    "print(\"For loop terminated, This instruction written outside the for loop\")"
   ]
  },
  {
   "cell_type": "markdown",
   "metadata": {},
   "source": [
    "Q11. In a for loop, what is the difference between range(10), range(0, 10), and range(0, 10, 1)?"
   ]
  },
  {
   "cell_type": "markdown",
   "metadata": {},
   "source": [
    "Answer : There is no such difference in either of the following range commands. <br>\n",
    "The syntax of range function is >>> range(start point , end point , step function)\n",
    "start point ---> range is starting from\n",
    "end point -----> range is ending to \n",
    "step function -> what is the step size if it is 1 means all the elements are covered.\n",
    "\n",
    "In the above question all 3 options does not contain all the parameters hence default parameters are automatically taken. Thus this all function will give same output"
   ]
  },
  {
   "cell_type": "code",
   "execution_count": 8,
   "metadata": {},
   "outputs": [
    {
     "name": "stdout",
     "output_type": "stream",
     "text": [
      "All commands output\n",
      "1st command : [0, 1, 2, 3, 4, 5, 6, 7, 8, 9]\n",
      "2nd command : [0, 1, 2, 3, 4, 5, 6, 7, 8, 9]\n",
      "3rd command : [0, 1, 2, 3, 4, 5, 6, 7, 8, 9]\n"
     ]
    }
   ],
   "source": [
    "# proof\n",
    "print(\"All commands output\")\n",
    "print(\"1st command :\",list(range(10)))\n",
    "print(\"2nd command :\",list(range(0,10)))\n",
    "print(\"3rd command :\",list(range(0,10,1)))"
   ]
  },
  {
   "cell_type": "markdown",
   "metadata": {},
   "source": [
    "Q12. Write a short program that prints the numbers 1 to 10 using a for loop. Then write an equivalent\n",
    "program that prints the numbers 1 to 10 using a while loop."
   ]
  },
  {
   "cell_type": "code",
   "execution_count": 9,
   "metadata": {},
   "outputs": [
    {
     "name": "stdout",
     "output_type": "stream",
     "text": [
      "for-loop output\n",
      "1 2 3 4 5 6 7 8 9 10 \n",
      "\n",
      "while loop output\n",
      "1 2 3 4 5 6 7 8 9 10 "
     ]
    }
   ],
   "source": [
    "# Answer\n",
    "# for-loop\n",
    "print(\"for-loop output\")\n",
    "for i in range(1,11):\n",
    "    print(i,end = \" \")\n",
    "print(\"\\n\\nwhile loop output\")\n",
    "i = 1\n",
    "while(i <= 10):\n",
    "    print(i,end = \" \")\n",
    "    i+=1"
   ]
  },
  {
   "cell_type": "markdown",
   "metadata": {},
   "source": [
    "Q13. If you had a function named bacon() inside a module named spam, how would you call it after\n",
    "importing spam?"
   ]
  },
  {
   "cell_type": "markdown",
   "metadata": {},
   "source": [
    "Answer : \n",
    "\n",
    "from spam import bacon <br>\n",
    "ba = bacon() ---> object initialization"
   ]
  },
  {
   "cell_type": "code",
   "execution_count": null,
   "metadata": {},
   "outputs": [],
   "source": []
  }
 ],
 "metadata": {
  "kernelspec": {
   "display_name": "Python 3",
   "language": "python",
   "name": "python3"
  },
  "language_info": {
   "codemirror_mode": {
    "name": "ipython",
    "version": 3
   },
   "file_extension": ".py",
   "mimetype": "text/x-python",
   "name": "python",
   "nbconvert_exporter": "python",
   "pygments_lexer": "ipython3",
   "version": "3.8.3"
  }
 },
 "nbformat": 4,
 "nbformat_minor": 4
}
