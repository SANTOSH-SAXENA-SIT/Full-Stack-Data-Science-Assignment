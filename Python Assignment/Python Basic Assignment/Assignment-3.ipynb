{
 "cells": [
  {
   "cell_type": "markdown",
   "metadata": {},
   "source": [
    "## Python Assignment"
   ]
  },
  {
   "cell_type": "markdown",
   "metadata": {},
   "source": [
    "### Python Basic Assignment"
   ]
  },
  {
   "cell_type": "markdown",
   "metadata": {},
   "source": [
    "#### Assignment-3"
   ]
  },
  {
   "cell_type": "markdown",
   "metadata": {},
   "source": [
    "1. Why are functions advantageous to have in your programs?\n",
    "\n",
    "Answer :<br>\n",
    "You dont need write same logic everytime again and again. "
   ]
  },
  {
   "cell_type": "markdown",
   "metadata": {},
   "source": [
    "2. When does the code in a function run: when it&#39;s specified or when it&#39;s called?\n",
    "\n",
    "Answer :<br>\n",
    "Function will run when you will call the function. It will not execute if you dine your function. The example is below"
   ]
  },
  {
   "cell_type": "code",
   "execution_count": 22,
   "metadata": {},
   "outputs": [],
   "source": [
    "def function():\n",
    "    print(\"Function is running\") # ---> Function is not running"
   ]
  },
  {
   "cell_type": "code",
   "execution_count": 23,
   "metadata": {},
   "outputs": [
    {
     "name": "stdout",
     "output_type": "stream",
     "text": [
      "Function is running\n"
     ]
    }
   ],
   "source": [
    "function() #---> function is running"
   ]
  },
  {
   "cell_type": "markdown",
   "metadata": {},
   "source": [
    "3. What statement creates a function? \n",
    "\n",
    "Answer :<br>\n",
    "def statement create function"
   ]
  },
  {
   "cell_type": "markdown",
   "metadata": {},
   "source": [
    "4. What is the difference between a function and a function call?\n",
    "\n",
    "Answer: <br>\n",
    "In function we define our logic and when we call a function that logic gets executed"
   ]
  },
  {
   "cell_type": "markdown",
   "metadata": {},
   "source": [
    "5. How many global scopes are there in a Python program? How many local scopes?\n",
    "\n",
    "Answer: <br>\n",
    "global scopes when used in function they consider the variable available outside the function and start processing it. It does not take that variable as an argument <br>\n",
    "local scopes when uesd in function they are limited to the function only. After the execution of function that variables are destroyed. They can be passed to argument list."
   ]
  },
  {
   "cell_type": "markdown",
   "metadata": {},
   "source": [
    "6. What happens to variables in a local scope when the function call returns? \n",
    "\n",
    "Answer : <br>\n",
    "variables in local scope are destroyed after the function returns and the excution of the function is done. "
   ]
  },
  {
   "cell_type": "markdown",
   "metadata": {},
   "source": [
    "7. What is the concept of a return value? Is it possible to have a return value in an expression?\n",
    "\n",
    "Answer : <br>\n",
    "return value is used when function wants to return the output and terminate itself. It is the last execution step of any function. return statement is only possible in the function expressions"
   ]
  },
  {
   "cell_type": "markdown",
   "metadata": {},
   "source": [
    "8. If a function does not have a return statement, what is the return value of a call to that function?\n",
    "\n",
    "Answer :<br>\n",
    "If this is the case then linear execution of function will be expected and after linear execution the program will terminate itself without returning anything."
   ]
  },
  {
   "cell_type": "markdown",
   "metadata": {},
   "source": [
    "9. How do you make a function variable refer to the global variable?\n",
    "\n",
    "Answer : <br>\n",
    "global variable_name is the syntax to declare the global variable. "
   ]
  },
  {
   "cell_type": "markdown",
   "metadata": {},
   "source": [
    "10. What is the data type of None? \n",
    "\n",
    "Answer:<br>\n",
    "It is the case when the variable is not assigned to any variable. "
   ]
  },
  {
   "cell_type": "markdown",
   "metadata": {},
   "source": [
    "11. What does the sentence import areallyourpetsnamederic do?\n",
    "\n",
    "Answer : <br>\n",
    "the library areallyourpetsnamederic will be imported from any repository or file into this code. We can execute this library function after calling this library from import"
   ]
  },
  {
   "cell_type": "markdown",
   "metadata": {},
   "source": [
    "12. If you had a bacon() feature in a spam module, what would you call it after importing spam?\n",
    "\n",
    "Answer : <br>\n",
    "import spam.bacon <br>\n",
    "from spam import bacon"
   ]
  },
  {
   "cell_type": "markdown",
   "metadata": {},
   "source": [
    "13. What can you do to save a programme from crashing if it encounters an error?\n",
    "\n",
    "Answer :<br>\n",
    "You can do exceptional handling. The syntax for exceptional handling is - <br>\n",
    "try: <br>\n",
    "&nbsp; &nbsp; &nbsp; &nbsp;  set of instruction <br>\n",
    "except: <br>\n",
    "&nbsp; &nbsp; &nbsp; &nbsp; error statements <br>"
   ]
  },
  {
   "cell_type": "markdown",
   "metadata": {},
   "source": [
    "14. What is the purpose of the try clause? What is the purpose of the except clause?\n",
    "\n",
    "Answer :\n",
    "In try clause you will be able to write you code . In except clause you will define what to do if your try clause will give an error."
   ]
  }
 ],
 "metadata": {
  "kernelspec": {
   "display_name": "Python 3",
   "language": "python",
   "name": "python3"
  },
  "language_info": {
   "codemirror_mode": {
    "name": "ipython",
    "version": 3
   },
   "file_extension": ".py",
   "mimetype": "text/x-python",
   "name": "python",
   "nbconvert_exporter": "python",
   "pygments_lexer": "ipython3",
   "version": "3.8.3"
  }
 },
 "nbformat": 4,
 "nbformat_minor": 4
}
