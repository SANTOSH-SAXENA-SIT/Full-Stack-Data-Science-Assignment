{
 "cells": [
  {
   "cell_type": "markdown",
   "metadata": {},
   "source": [
    "## Python Assignment"
   ]
  },
  {
   "cell_type": "markdown",
   "metadata": {},
   "source": [
    "### Python Basic Assignment"
   ]
  },
  {
   "cell_type": "markdown",
   "metadata": {},
   "source": [
    "#### Assignment - 1"
   ]
  },
  {
   "cell_type": "markdown",
   "metadata": {},
   "source": [
    "1. In the below elements which of them are values or an expression? eg:- values can be\n",
    "integer or string and expressions will be mathematical operators.\n",
    "<br>1) *       \n",
    "2) &#39;hello&#39;<br>\n",
    "3) - 87.8<br>\n",
    "4) -<br>\n",
    "5) /<br>\n",
    "6) +<br>\n",
    "7) 6<br>\n",
    "<br>\n",
    "Answer :\n",
    "<br>1) * ----------------> experessions   <br>   \n",
    "2) &#39;hello&#39; ------> value <br>\n",
    "3) - 87.8 ---------------> value <br>\n",
    "4) - --------------------> experession <br>\n",
    "5) / --------------------> experessions<br>\n",
    "6) + --------------------> experessions<br>\n",
    "7) 6 --------------------> value<br>\n"
   ]
  },
  {
   "cell_type": "markdown",
   "metadata": {},
   "source": [
    "2. What is the difference between string and variable?  <br>\n",
    "String : A string is used to store anything in double quotes (\"\"). The use of string is when you want to something to print without any operations.<br>\n",
    "variable : A variable is a something which has an ability to store any sort of value which has some data type."
   ]
  },
  {
   "cell_type": "markdown",
   "metadata": {},
   "source": [
    "3. Describe three different data types? <br>\n",
    "Answer:\n",
    "<br>The 3 types of data type are -\n",
    "<br>1) Integer  --> Integer value\n",
    "<br>2) Float    --> Decimal values\n",
    "<br>3) Character--> alphabetical values"
   ]
  },
  {
   "cell_type": "markdown",
   "metadata": {},
   "source": [
    "4. What is an expression made up of? What do all expressions do?\n",
    "\n",
    "Answer: <br>\n",
    "An Expression is nothing but an equation which is used to perform some sort of operation. An expression contains 2 or more variable followed by an operator. "
   ]
  },
  {
   "cell_type": "markdown",
   "metadata": {},
   "source": [
    "5. This assignment statements, like spam = 10. What is the difference between an\n",
    "expression and a statement?\n",
    "\n",
    "Answer:<br>\n",
    "An expresion we are trying to perform any operation and in assignment statement we try to store the value available in the right side to the vaiable in the left side of equal to \"=\""
   ]
  },
  {
   "cell_type": "markdown",
   "metadata": {},
   "source": [
    "6. After running the following code, what does the variable bacon contain?\n",
    "<br>bacon = 22\n",
    "<br>bacon + 1\n",
    "\n",
    "Answer: <br>\n",
    "After running the variable bacon variable contains 22 because the last statement does not store the updated value in the bacon variable. The following code is availble in the below cell "
   ]
  },
  {
   "cell_type": "code",
   "execution_count": 1,
   "metadata": {},
   "outputs": [
    {
     "name": "stdout",
     "output_type": "stream",
     "text": [
      "23\n",
      "22\n"
     ]
    }
   ],
   "source": [
    "bacon = 22\n",
    "print(bacon + 1)\n",
    "print(bacon)"
   ]
  },
  {
   "cell_type": "markdown",
   "metadata": {},
   "source": [
    "7. What should the values of the following two terms be?\n",
    "<br> &#39;spam&#39; + &#39;spamspam&#39;\n",
    "<br> &#39;spam&#39; * 3\n",
    "\n",
    "Answer: <br>\n",
    "First and second statement both will give spamspamspam\n",
    "The prof is available in the below cell"
   ]
  },
  {
   "cell_type": "code",
   "execution_count": 2,
   "metadata": {},
   "outputs": [
    {
     "name": "stdout",
     "output_type": "stream",
     "text": [
      "spamspamspam\n",
      "spamspamspam\n"
     ]
    }
   ],
   "source": [
    "print(\"spam\"+\"spamspam\")\n",
    "print(\"spam\"*3)"
   ]
  },
  {
   "cell_type": "markdown",
   "metadata": {},
   "source": [
    "8. Why is eggs a valid variable name while 100 is invalid?\n",
    "\n",
    "Answer: <br>\n",
    "In variable declaration one must take care of these things -\n",
    "<br>1) Variable first letter should be either character or _\n",
    "<br>2) In eggs the first letter is e which is valid\n",
    "<br>3) In 100 the first letter is 1 which is invalid"
   ]
  },
  {
   "cell_type": "markdown",
   "metadata": {},
   "source": [
    "9. What three functions can be used to get the integer, floating-point number, or string\n",
    "version of a value?\n",
    "\n",
    "Answer :<br>\n",
    "For int() , float() and str() are the 3 functions to get the respected values respectively."
   ]
  },
  {
   "cell_type": "markdown",
   "metadata": {},
   "source": [
    "10. Why does this expression cause an error? How can you fix it? <br>\n",
    "&#39;I have eaten &#39; + 99 + &#39; burritos.&#39;<br>\n",
    "Answer :<br>\n",
    "You cannot concatenate string with integer value. You need to typecast the 99 from string to integer. For that you should replace 99 with str(99). Then your string will be concatenated without any error."
   ]
  }
 ],
 "metadata": {
  "kernelspec": {
   "display_name": "Python 3",
   "language": "python",
   "name": "python3"
  },
  "language_info": {
   "codemirror_mode": {
    "name": "ipython",
    "version": 3
   },
   "file_extension": ".py",
   "mimetype": "text/x-python",
   "name": "python",
   "nbconvert_exporter": "python",
   "pygments_lexer": "ipython3",
   "version": "3.8.3"
  }
 },
 "nbformat": 4,
 "nbformat_minor": 4
}
